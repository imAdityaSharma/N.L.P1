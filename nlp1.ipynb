{
 "cells": [
  {
   "cell_type": "code",
   "execution_count": 1,
   "metadata": {},
   "outputs": [],
   "source": [
    "import pandas as pd\n",
    "import numpy as np\n",
    "import requests as rq\n",
    "import json\n",
    "from nltk.tokenize import word_tokenize as wt \n",
    "from nltk.tokenize import sent_tokenize as st\n",
    "from nltk.corpus import stopwords\n",
    "import re"
   ]
  },
  {
   "cell_type": "code",
   "execution_count": 2,
   "metadata": {},
   "outputs": [],
   "source": [
    "# genre_api = rq.get('https://api.themoviedb.org/3/genre/movie/list?api_key=8265bd1679663a7ea12ac168da84d2e8&language=en-US')\n",
    "# genr = genre_api.text\n",
    "# genre_data=json.loads(genr)\n",
    "# # genre_data['genres']\n",
    "# gen_d = pd.DataFrame.from_dict(genre_data['genres'])\n",
    "# # gen_d.to_csv(\"genre_data\")"
   ]
  },
  {
   "cell_type": "code",
   "execution_count": 3,
   "metadata": {},
   "outputs": [],
   "source": [
    "# api = \"https://api.themoviedb.org/3/movie/top_rated?api_key=8265bd1679663a7ea12ac168da84d2e8&language=en-US&page=1\"\n",
    "# movie_api = rq.get(api)\n",
    "# mov = movie_api.text\n",
    "# mov_data = json.loads(mov)\n",
    "# mov_data.pop('page')\n",
    "# print(mov_data['results'])\n",
    "# mov_df= pd.DataFrame.from_dict(mov_data['results'])\n",
    "# mov_df.drop(columns=[\"adult\",\"backdrop_path\",\"id\",\"original_language\",\"popularity\",\"poster_path\",\"release_date\",\"title\",\"video\",\"vote_average\",\"vote_count\"], inplace= True)\n",
    "\n",
    "# for i in range(2,450):\n",
    "#     api = \"https://api.themoviedb.org/3/movie/top_rated?api_key=8265bd1679663a7ea12ac168da84d2e8&language=en-US&page=\"+str(i)\n",
    "#     movie_api = rq.get(api)\n",
    "#     mov = movie_api.text\n",
    "#     mov_data = json.loads(mov)\n",
    "#     mov_data.pop('page')\n",
    "#     # print(mov_data['results'])\n",
    "#     newdata=pd.DataFrame.from_dict(mov_data['results'])\n",
    "#     newdata.drop(columns=[\"adult\",\"backdrop_path\",\"id\",\"original_language\",\"popularity\",\"poster_path\",\"release_date\",\"title\",\"video\",\"vote_average\",\"vote_count\"], inplace= True)\n",
    "#     # print(newdata)\n",
    "#     mov_df= pd.concat([mov_df,newdata],ignore_index=True)\n",
    "#     # newdata.info()\n",
    "# # mov_df.to_csv(\"mov_data\")\n"
   ]
  },
  {
   "cell_type": "code",
   "execution_count": 6,
   "metadata": {},
   "outputs": [],
   "source": [
    "# genre_mapping = dict(zip(gen_d['id'],gen_d['name']))\n",
    "# mov_df['genre'] = mov_df['genre_ids'].apply(lambda ids: [genre_mapping.get(id) for id in ids])\n",
    "# mov_df.drop(['genre_ids'],inplace=True,axis=1)\n",
    "# mov_df['genre'] = mov_df['genre'].apply(lambda x: ', '.join(map(str, x)))\n",
    "\n",
    "# mov_df['genre'] = mov_df['genre'].str.lower()\n",
    "# mov_df['original_title'] = mov_df['original_title'].str.lower()\n",
    "# mov_df['overview'] = mov_df['overview'].str.lower()\n"
   ]
  },
  {
   "cell_type": "code",
   "execution_count": 232,
   "metadata": {},
   "outputs": [],
   "source": [
    "mov_df = pd.read_csv('mov_data',header=0,index_col=0)"
   ]
  },
  {
   "cell_type": "markdown",
   "metadata": {},
   "source": [
    "**Removing Non English Character movie name from 'original_title' column**"
   ]
  },
  {
   "cell_type": "code",
   "execution_count": 233,
   "metadata": {},
   "outputs": [
    {
     "data": {
      "text/html": [
       "<div>\n",
       "<style scoped>\n",
       "    .dataframe tbody tr th:only-of-type {\n",
       "        vertical-align: middle;\n",
       "    }\n",
       "\n",
       "    .dataframe tbody tr th {\n",
       "        vertical-align: top;\n",
       "    }\n",
       "\n",
       "    .dataframe thead th {\n",
       "        text-align: right;\n",
       "    }\n",
       "</style>\n",
       "<table border=\"1\" class=\"dataframe\">\n",
       "  <thead>\n",
       "    <tr style=\"text-align: right;\">\n",
       "      <th></th>\n",
       "      <th>original_title</th>\n",
       "      <th>overview</th>\n",
       "      <th>genre</th>\n",
       "    </tr>\n",
       "  </thead>\n",
       "  <tbody>\n",
       "    <tr>\n",
       "      <th>0</th>\n",
       "      <td>the godfather</td>\n",
       "      <td>spanning the years 1945 to 1955, a chronicle o...</td>\n",
       "      <td>drama, crime</td>\n",
       "    </tr>\n",
       "    <tr>\n",
       "      <th>1</th>\n",
       "      <td>the shawshank redemption</td>\n",
       "      <td>framed in the 1940s for the double murder of h...</td>\n",
       "      <td>drama, crime</td>\n",
       "    </tr>\n",
       "    <tr>\n",
       "      <th>2</th>\n",
       "      <td>the godfather part ii</td>\n",
       "      <td>in the continuing saga of the corleone crime f...</td>\n",
       "      <td>drama, crime</td>\n",
       "    </tr>\n",
       "    <tr>\n",
       "      <th>3</th>\n",
       "      <td>the dark knight</td>\n",
       "      <td>batman raises the stakes in his war on crime. ...</td>\n",
       "      <td>drama, action, crime, thriller</td>\n",
       "    </tr>\n",
       "    <tr>\n",
       "      <th>4</th>\n",
       "      <td>the green mile</td>\n",
       "      <td>a supernatural tale set on death row in a sout...</td>\n",
       "      <td>fantasy, drama, crime</td>\n",
       "    </tr>\n",
       "    <tr>\n",
       "      <th>...</th>\n",
       "      <td>...</td>\n",
       "      <td>...</td>\n",
       "      <td>...</td>\n",
       "    </tr>\n",
       "    <tr>\n",
       "      <th>6275</th>\n",
       "      <td>death note</td>\n",
       "      <td>a young man comes to possess a supernatural no...</td>\n",
       "      <td>crime, fantasy, horror, thriller</td>\n",
       "    </tr>\n",
       "    <tr>\n",
       "      <th>6276</th>\n",
       "      <td>stan helsing</td>\n",
       "      <td>it's halloween night and video store clerk sta...</td>\n",
       "      <td>comedy</td>\n",
       "    </tr>\n",
       "    <tr>\n",
       "      <th>6277</th>\n",
       "      <td>left behind</td>\n",
       "      <td>a small group of survivors are left behind aft...</td>\n",
       "      <td>thriller, action, science fiction</td>\n",
       "    </tr>\n",
       "    <tr>\n",
       "      <th>6278</th>\n",
       "      <td>date movie</td>\n",
       "      <td>spoof of romantic comedies which focuses on a ...</td>\n",
       "      <td>comedy, romance</td>\n",
       "    </tr>\n",
       "    <tr>\n",
       "      <th>6279</th>\n",
       "      <td>the starving games</td>\n",
       "      <td>in this hunger games spoof, kantmiss evershot ...</td>\n",
       "      <td>comedy</td>\n",
       "    </tr>\n",
       "  </tbody>\n",
       "</table>\n",
       "<p>6280 rows × 3 columns</p>\n",
       "</div>"
      ],
      "text/plain": [
       "                original_title  \\\n",
       "0                the godfather   \n",
       "1     the shawshank redemption   \n",
       "2        the godfather part ii   \n",
       "3              the dark knight   \n",
       "4               the green mile   \n",
       "...                        ...   \n",
       "6275                death note   \n",
       "6276              stan helsing   \n",
       "6277               left behind   \n",
       "6278                date movie   \n",
       "6279        the starving games   \n",
       "\n",
       "                                               overview  \\\n",
       "0     spanning the years 1945 to 1955, a chronicle o...   \n",
       "1     framed in the 1940s for the double murder of h...   \n",
       "2     in the continuing saga of the corleone crime f...   \n",
       "3     batman raises the stakes in his war on crime. ...   \n",
       "4     a supernatural tale set on death row in a sout...   \n",
       "...                                                 ...   \n",
       "6275  a young man comes to possess a supernatural no...   \n",
       "6276  it's halloween night and video store clerk sta...   \n",
       "6277  a small group of survivors are left behind aft...   \n",
       "6278  spoof of romantic comedies which focuses on a ...   \n",
       "6279  in this hunger games spoof, kantmiss evershot ...   \n",
       "\n",
       "                                  genre  \n",
       "0                          drama, crime  \n",
       "1                          drama, crime  \n",
       "2                          drama, crime  \n",
       "3        drama, action, crime, thriller  \n",
       "4                 fantasy, drama, crime  \n",
       "...                                 ...  \n",
       "6275   crime, fantasy, horror, thriller  \n",
       "6276                             comedy  \n",
       "6277  thriller, action, science fiction  \n",
       "6278                    comedy, romance  \n",
       "6279                             comedy  \n",
       "\n",
       "[6280 rows x 3 columns]"
      ]
     },
     "execution_count": 233,
     "metadata": {},
     "output_type": "execute_result"
    }
   ],
   "source": [
    "english_pattern = r'^[a-zA-Z0-9\\s!\"#$%&\\'()*+,-./:;<=>?@[\\\\]^_{|}~].*$'\n",
    "mov_df['english_rows'] = mov_df['original_title'].str.contains(english_pattern, na=True)\n",
    "mov_df[mov_df['english_rows']==False]\n",
    "mov_df=mov_df[english_rows]\n",
    "mov_df.reset_index(drop=True,inplace=True)\n",
    "mov_df.drop(columns=['english_rows'],inplace=True)\n",
    "mov_df"
   ]
  },
  {
   "cell_type": "markdown",
   "metadata": {},
   "source": [
    "**Removing special characters from 'overview' 'genre'**"
   ]
  },
  {
   "cell_type": "code",
   "execution_count": 234,
   "metadata": {},
   "outputs": [],
   "source": [
    "# replace_special_characters = lambda x: x.replace('.', '').replace(',', '').replace(\"'\", '').replace('\"', '')\n",
    "mov_df['overview']=mov_df['overview'].apply(lambda x: str(x).replace('.', '').replace(',', '').replace(\"'\", '').replace('\"', '').replace('-',' ').replace('&','and'))\n",
    "mov_df['genre']=mov_df['genre'].apply(lambda x: str(x).replace('.', '').replace(',', '').replace(\"'\", '').replace('\"', ''))"
   ]
  },
  {
   "cell_type": "code",
   "execution_count": null,
   "metadata": {},
   "outputs": [],
   "source": [
    "#both are required to resolve lookup error\n",
    "'''nltk.download('punkt')\n",
    "nltk.download('stopwords')'''"
   ]
  },
  {
   "cell_type": "markdown",
   "metadata": {},
   "source": [
    "**Stop Word removal and Tokenization of overview Column**"
   ]
  },
  {
   "cell_type": "code",
   "execution_count": 235,
   "metadata": {},
   "outputs": [],
   "source": [
    "def remove_stopwords(text):\n",
    "    stopWords = set(stopwords.words('english'))\n",
    "    words = wt(text)\n",
    "    filtered_words = [word for word in words if word.lower() not in stopWords]\n",
    "    return ' '.join(filtered_words)\n",
    "\n",
    "mov_df['overview']=mov_df['overview'].apply(lambda w : remove_stopwords(w))\n",
    "mov_df['overview']=mov_df['overview'].apply(lambda x: str(x).replace('lt ', 'leutinent ').replace('dr ', 'doctor '))\n",
    "# mov_df['overview']=mov_df['overview'].apply(lambda x: wt(x))"
   ]
  },
  {
   "cell_type": "code",
   "execution_count": 192,
   "metadata": {},
   "outputs": [],
   "source": [
    "# r =mov_df['overview'][4]"
   ]
  },
  {
   "cell_type": "code",
   "execution_count": 153,
   "metadata": {},
   "outputs": [],
   "source": [
    "# Only if required \n",
    "# mov_df['genre']=mov_df['genre'].apply(lambda x: wt(x)) "
   ]
  },
  {
   "cell_type": "markdown",
   "metadata": {},
   "source": [
    "**Stemming of overview column**"
   ]
  },
  {
   "cell_type": "code",
   "execution_count": 224,
   "metadata": {},
   "outputs": [],
   "source": [
    "from nltk.stem import PorterStemmer, SnowballStemmer"
   ]
  },
  {
   "cell_type": "code",
   "execution_count": 236,
   "metadata": {},
   "outputs": [],
   "source": [
    "def pStem(text):\n",
    "    stemmed_words = [ps.stem(word) for word in wt(text)]\n",
    "    return ' '.join(stemmed_words)\n",
    "mov_df['overview']=mov_df['overview'].apply(lambda x: pStem(x))"
   ]
  },
  {
   "cell_type": "code",
   "execution_count": 237,
   "metadata": {},
   "outputs": [],
   "source": [
    "from nltk.stem import wordnet\n",
    "from nltk.stem import WordNetLemmatizer\n",
    "import spacy\n",
    "nlp = spacy.load(\"en_core_web_sm\")\n",
    "lemmatizer = WordNetLemmatizer()"
   ]
  },
  {
   "cell_type": "code",
   "execution_count": 238,
   "metadata": {},
   "outputs": [],
   "source": [
    "def lemmaOv(text):\n",
    "    lemm = [word.lemma_ for word in nlp(text)]\n",
    "    return ' '.join(lemm)\n",
    "mov_df['overview']=mov_df['overview'].apply(lambda x: lemmaOv(x))"
   ]
  },
  {
   "cell_type": "code",
   "execution_count": null,
   "metadata": {},
   "outputs": [],
   "source": [
    "mov_df['overview']=mov_df['overview'].apply(lambda x: wt(x))"
   ]
  },
  {
   "cell_type": "code",
   "execution_count": 242,
   "metadata": {},
   "outputs": [
    {
     "data": {
      "text/html": [
       "<div>\n",
       "<style scoped>\n",
       "    .dataframe tbody tr th:only-of-type {\n",
       "        vertical-align: middle;\n",
       "    }\n",
       "\n",
       "    .dataframe tbody tr th {\n",
       "        vertical-align: top;\n",
       "    }\n",
       "\n",
       "    .dataframe thead th {\n",
       "        text-align: right;\n",
       "    }\n",
       "</style>\n",
       "<table border=\"1\" class=\"dataframe\">\n",
       "  <thead>\n",
       "    <tr style=\"text-align: right;\">\n",
       "      <th></th>\n",
       "      <th>overview</th>\n",
       "    </tr>\n",
       "  </thead>\n",
       "  <tbody>\n",
       "    <tr>\n",
       "      <th>0</th>\n",
       "      <td>[span, year, 1945, 1955, chronicl, fiction, it...</td>\n",
       "    </tr>\n",
       "    <tr>\n",
       "      <th>1</th>\n",
       "      <td>[frame, 1940, doubl, murder, wife, lover, upst...</td>\n",
       "    </tr>\n",
       "    <tr>\n",
       "      <th>2</th>\n",
       "      <td>[continu, saga, corleon, crime, famili, young,...</td>\n",
       "    </tr>\n",
       "    <tr>\n",
       "      <th>3</th>\n",
       "      <td>[batman, rais, stake, war, crime, help, leutin...</td>\n",
       "    </tr>\n",
       "    <tr>\n",
       "      <th>4</th>\n",
       "      <td>[supernatur, tale, set, death, row, southern, ...</td>\n",
       "    </tr>\n",
       "    <tr>\n",
       "      <th>...</th>\n",
       "      <td>...</td>\n",
       "    </tr>\n",
       "    <tr>\n",
       "      <th>6275</th>\n",
       "      <td>[young, man, come, possess, supernatur, notebo...</td>\n",
       "    </tr>\n",
       "    <tr>\n",
       "      <th>6276</th>\n",
       "      <td>[halloween, night, video, store, clerk, stan, ...</td>\n",
       "    </tr>\n",
       "    <tr>\n",
       "      <th>6277</th>\n",
       "      <td>[small, group, survivor, leave, behind, millio...</td>\n",
       "    </tr>\n",
       "    <tr>\n",
       "      <th>6278</th>\n",
       "      <td>[spoof, romant, comedi, focus, man, crush, par...</td>\n",
       "    </tr>\n",
       "    <tr>\n",
       "      <th>6279</th>\n",
       "      <td>[hunger, game, spoof, kantmiss, evershot, must...</td>\n",
       "    </tr>\n",
       "  </tbody>\n",
       "</table>\n",
       "<p>6280 rows × 1 columns</p>\n",
       "</div>"
      ],
      "text/plain": [
       "                                               overview\n",
       "0     [span, year, 1945, 1955, chronicl, fiction, it...\n",
       "1     [frame, 1940, doubl, murder, wife, lover, upst...\n",
       "2     [continu, saga, corleon, crime, famili, young,...\n",
       "3     [batman, rais, stake, war, crime, help, leutin...\n",
       "4     [supernatur, tale, set, death, row, southern, ...\n",
       "...                                                 ...\n",
       "6275  [young, man, come, possess, supernatur, notebo...\n",
       "6276  [halloween, night, video, store, clerk, stan, ...\n",
       "6277  [small, group, survivor, leave, behind, millio...\n",
       "6278  [spoof, romant, comedi, focus, man, crush, par...\n",
       "6279  [hunger, game, spoof, kantmiss, evershot, must...\n",
       "\n",
       "[6280 rows x 1 columns]"
      ]
     },
     "execution_count": 242,
     "metadata": {},
     "output_type": "execute_result"
    }
   ],
   "source": [
    "mov_df[['overview']]"
   ]
  }
 ],
 "metadata": {
  "kernelspec": {
   "display_name": "base",
   "language": "python",
   "name": "python3"
  },
  "language_info": {
   "codemirror_mode": {
    "name": "ipython",
    "version": 3
   },
   "file_extension": ".py",
   "mimetype": "text/x-python",
   "name": "python",
   "nbconvert_exporter": "python",
   "pygments_lexer": "ipython3",
   "version": "3.9.5"
  }
 },
 "nbformat": 4,
 "nbformat_minor": 2
}
