{
  "cells": [
    {
      "cell_type": "markdown",
      "metadata": {
        "id": "3iKVSl7hDZJl"
      },
      "source": [
        "Use the following dataset - https://www.kaggle.com/lakshmi25npathi/imdb-dataset-of-50k-movie-reviews"
      ]
    },
    {
      "cell_type": "code",
      "execution_count": 1,
      "metadata": {},
      "outputs": [],
      "source": [
        "# %load_ext cudf.pandas\n",
        "import pandas as pd\n",
        "from nltk.tokenize import word_tokenize as wt \n",
        "from nltk.corpus import stopwords\n",
        "from nltk.stem import PorterStemmer as ps\n",
        "import re"
      ]
    },
    {
      "cell_type": "code",
      "execution_count": 5,
      "metadata": {},
      "outputs": [],
      "source": [
        "\n",
        "ps =ps()"
      ]
    },
    {
      "cell_type": "code",
      "execution_count": 2,
      "metadata": {
        "id": "-MnjNsGhDfCA"
      },
      "outputs": [],
      "source": [
        "# Problem 1\n",
        "\n",
        "# Apply all the preprocessing techniques that you think are necessary"
      ]
    },
    {
      "cell_type": "code",
      "execution_count": 2,
      "metadata": {},
      "outputs": [],
      "source": [
        "df=pd.read_csv(\"IMDB Dataset.csv\",header=0)\n",
        "\n",
        "htmltagpattern = re.compile(r'<[^>]+>')\n",
        "def remove_htmltag(text):\n",
        "    return re.sub(htmltagpattern, ' ', text)\n",
        "df['review']=df['review'].apply(lambda x: remove_htmltag(x))\n",
        "df['review']=df['review'].apply( lambda x: re.sub(r'\\b(\\w+s)\\'s\\b', r'\\1 is', x))\n",
        "df['review']=df['review'].str.lower()"
      ]
    },
    {
      "cell_type": "code",
      "execution_count": 4,
      "metadata": {},
      "outputs": [],
      "source": [
        "x=df['review']\n"
      ]
    },
    {
      "cell_type": "code",
      "execution_count": 3,
      "metadata": {},
      "outputs": [],
      "source": [
        "df['review']=df['review'].apply(lambda x: str(x).replace('.', '').replace(',', '').replace(\"'\", '').replace('\"', '').replace('-',' ').replace('&','and').replace('(','').replace(')','').replace('?',''))\n",
        "df['review']=df['review'].apply(lambda x:x.replace(\"wasnt\", 'was not').replace(\"arent\", 'are not')\\\n",
        "    .replace(\"couldnt\", 'could not').replace(\"wouldnt\", 'would not')\\\n",
        "    .replace(\"shouldnt\",'should not').replace(\"ill\",'i will').replace(\"theres\",\"there is\").replace(\"wheres\",\"where is\")\\\n",
        "    .replace(\"im\",'i am').replace(\"theyre\",'they are').replace('im','i am').replace(\"heres\",\"here is\")\\\n",
        "    .replace(\"cant\", \"cannot\").replace(\"havent\", \"have not\") \\\n",
        "    .replace(\"wont\", \"will not\").replace(\"didnt\", \"did not\") \\\n",
        "    .replace(\"doesnt\", \"does not\").replace(\"isnt\", \"is not\") \\\n",
        "    .replace(\"wont\", \"will not\").replace(\"hasnt\", \"has not\") \\\n",
        "    .replace(\"werent\", \"were not\").replace(\"its\", \"it is\").replace(\"youre\",\"you are\").replace('ti ame','time').replace('bri williant','brilliant'))\n",
        "def remove_num(text):\n",
        "    num = re.compile(r'\\b\\d+(\\.\\d+)?\\b')\n",
        "    return re.sub(num, '',text)\n",
        "df['review']=df['review'].apply(lambda x: remove_num(x))"
      ]
    },
    {
      "cell_type": "code",
      "execution_count": 4,
      "metadata": {},
      "outputs": [
        {
          "data": {
            "text/plain": [
              "0        one reviewers mentioned watching oz episode yo...\n",
              "1        wonderful little production filming technique ...\n",
              "2        thought wonderful way spend time hot summer we...\n",
              "3        basically family little boy jake thinks zombie...\n",
              "4        petter matteis love time money visually stunni...\n",
              "                               ...                        \n",
              "49995    thought movie right good job creative original...\n",
              "49996    bad plot bad dialogue bad acting idiotic direc...\n",
              "49997    catholic taught parochial elementary schools n...\n",
              "49998    going disagree previous comment side maltin on...\n",
              "49999    one expects star trek movies high art fans exp...\n",
              "Name: review, Length: 50000, dtype: object"
            ]
          },
          "execution_count": 4,
          "metadata": {},
          "output_type": "execute_result"
        }
      ],
      "source": [
        "def remove_stopwords(text):\n",
        "    stopWords = set(stopwords.words('english'))\n",
        "    words = wt(text)\n",
        "    filtered_words = [word for word in words if word.lower() not in stopWords]\n",
        "    return ' '.join(filtered_words)\n",
        "df['review'].apply(lambda x: remove_stopwords(x))"
      ]
    },
    {
      "cell_type": "code",
      "execution_count": null,
      "metadata": {},
      "outputs": [],
      "source": []
    },
    {
      "cell_type": "code",
      "execution_count": 6,
      "metadata": {},
      "outputs": [],
      "source": [
        "def pStem(text):\n",
        "    stemmed_words = [ps.stem(word) for word in wt(text)]\n",
        "    return ' '.join(stemmed_words)\n",
        "df['review']=df['review'].apply(lambda x: pStem(x))"
      ]
    },
    {
      "cell_type": "code",
      "execution_count": 7,
      "metadata": {
        "id": "VuVSlxaZDqsj"
      },
      "outputs": [],
      "source": [
        "# Problem 2\n",
        "\n",
        "# Find out the number of words in the entire corpus and also the total number of unique words(vocabulary) using just python"
      ]
    },
    {
      "cell_type": "code",
      "execution_count": null,
      "metadata": {},
      "outputs": [],
      "source": []
    },
    {
      "cell_type": "code",
      "execution_count": 8,
      "metadata": {
        "id": "B9BcW8aLD4nr"
      },
      "outputs": [],
      "source": [
        "# Problem 3\n",
        "\n",
        "# Apply One Hot Encoding"
      ]
    },
    {
      "cell_type": "code",
      "execution_count": 9,
      "metadata": {
        "id": "tSQ9sf6NFSTb"
      },
      "outputs": [],
      "source": [
        "# Problem 4\n",
        "\n",
        "# Apply bag words and find the vocabulary also find the times each word has occured"
      ]
    },
    {
      "cell_type": "code",
      "execution_count": 10,
      "metadata": {
        "id": "vR8LnGwZFbhD"
      },
      "outputs": [],
      "source": [
        "# Problem 5\n",
        "\n",
        "# Apply bag of bi-gram and bag of tri-gram and write down your observation about the dimensionality of the vocabulary"
      ]
    },
    {
      "cell_type": "code",
      "execution_count": 11,
      "metadata": {
        "id": "coyvsD3OFrB4"
      },
      "outputs": [],
      "source": [
        "# Problem 6\n",
        "\n",
        "# Apply tf-idf and find out the idf scores of words, also find out the vocabulary."
      ]
    },
    {
      "cell_type": "code",
      "execution_count": null,
      "metadata": {
        "id": "n7abDAiFF2Ij"
      },
      "outputs": [],
      "source": []
    }
  ],
  "metadata": {
    "colab": {
      "provenance": []
    },
    "kernelspec": {
      "display_name": "Python 3",
      "name": "python3"
    },
    "language_info": {
      "codemirror_mode": {
        "name": "ipython",
        "version": 3
      },
      "file_extension": ".py",
      "mimetype": "text/x-python",
      "name": "python",
      "nbconvert_exporter": "python",
      "pygments_lexer": "ipython3",
      "version": "3.9.5"
    }
  },
  "nbformat": 4,
  "nbformat_minor": 0
}
